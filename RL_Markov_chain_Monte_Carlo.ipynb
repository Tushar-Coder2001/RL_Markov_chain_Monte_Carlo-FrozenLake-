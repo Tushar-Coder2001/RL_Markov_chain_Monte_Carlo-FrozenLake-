{
  "nbformat": 4,
  "nbformat_minor": 0,
  "metadata": {
    "colab": {
      "name": "RL_Markov chain Monte Carlo.ipynb",
      "provenance": [],
      "collapsed_sections": []
    },
    "kernelspec": {
      "name": "python3",
      "display_name": "Python 3"
    },
    "language_info": {
      "name": "python"
    }
  },
  "cells": [
    {
      "cell_type": "code",
      "execution_count": null,
      "metadata": {
        "colab": {
          "base_uri": "https://localhost:8080/"
        },
        "id": "r81cv8Rn3J3Q",
        "outputId": "e493094a-610f-4578-a736-68cba2a7337c"
      },
      "outputs": [
        {
          "output_type": "stream",
          "name": "stdout",
          "text": [
            "Looking in indexes: https://pypi.org/simple, https://us-python.pkg.dev/colab-wheels/public/simple/\n",
            "Requirement already satisfied: gym in /usr/local/lib/python3.7/dist-packages (0.17.3)\n",
            "Requirement already satisfied: numpy>=1.10.4 in /usr/local/lib/python3.7/dist-packages (from gym) (1.21.6)\n",
            "Requirement already satisfied: pyglet<=1.5.0,>=1.4.0 in /usr/local/lib/python3.7/dist-packages (from gym) (1.5.0)\n",
            "Requirement already satisfied: scipy in /usr/local/lib/python3.7/dist-packages (from gym) (1.4.1)\n",
            "Requirement already satisfied: cloudpickle<1.7.0,>=1.2.0 in /usr/local/lib/python3.7/dist-packages (from gym) (1.3.0)\n",
            "Requirement already satisfied: future in /usr/local/lib/python3.7/dist-packages (from pyglet<=1.5.0,>=1.4.0->gym) (0.16.0)\n"
          ]
        }
      ],
      "source": [
        "!pip install gym\n",
        "import numpy as np\n",
        "import gym"
      ]
    },
    {
      "cell_type": "code",
      "source": [
        "def run_game(env,policy,episodes):\n",
        "  games_won=0\n",
        "  for _ in range(episodes):\n",
        "    state=env.reset()\n",
        "    while True:\n",
        "      action=policy[state]\n",
        "      new_state,rew,done,_=env.step(action)\n",
        "      games_won+=rew\n",
        "      if done:\n",
        "        break\n",
        "  print(\"games won {}\".format(games_won))\n",
        "  return games_won\n",
        "\n",
        "def train_agent_MC(episodes,env,Q,N,policy):\n",
        "  epsilon=1\n",
        "  state=env.reset()\n",
        "  for i in range(episodes):\n",
        "    total_rew=0\n",
        "    episode_states=[]\n",
        "    epsilon=max(0,epsilon-i/episodes)\n",
        "    state=env.reset()\n",
        "    done=False\n",
        "    first_visit=[]\n",
        "    while not done:\n",
        "      if np.random.random()<1-epsilon:\n",
        "        action=env.action_space.sample()\n",
        "      else:\n",
        "        action=np.argmax(Q[state])#off policy\n",
        "      episode_states.append((state,action))\n",
        "      state,rew,done,_=env.step(action)\n",
        "      total_rew+=rew\n",
        "    for s,a in episode_states:\n",
        "      if (s,a) not in first_visit:\n",
        "        N[s][a]+=1\n",
        "        Q[s][a]+=(1/N[s][a])*(total_rew-Q[s][a])\n",
        "        first_visit.append((s,a))\n",
        "        \n",
        "  for state in range(env.observation_space.n):\n",
        "    policy[state]=np.argmax(Q[state])\n",
        "  return policy\n"
      ],
      "metadata": {
        "id": "zlJp6nU93OIK"
      },
      "execution_count": null,
      "outputs": []
    },
    {
      "cell_type": "code",
      "source": [
        "if __name__=='__main__':\n",
        "  episodes=100000\n",
        "  total_game=100\n",
        "  env=gym.make('FrozenLake-v0')\n",
        "  Q=np.zeros([env.observation_space.n,env.action_space.n])\n",
        "  N=np.zeros([env.observation_space.n,env.action_space.n])\n",
        "  policy=np.zeros([env.observation_space.n])\n",
        "  optimal_policy=train_agent_MC(episodes,env,Q,N,policy)\n",
        "  print(optimal_policy)\n",
        "  for _ in range(10):\n",
        "    run_game(env,optimal_policy,total_game)"
      ],
      "metadata": {
        "colab": {
          "base_uri": "https://localhost:8080/"
        },
        "id": "Qjm2WIDz-NJe",
        "outputId": "f8e812d3-adaf-4930-941e-5ef83c867553"
      },
      "execution_count": null,
      "outputs": [
        {
          "output_type": "stream",
          "name": "stdout",
          "text": [
            "[1. 3. 0. 3. 0. 0. 0. 0. 3. 2. 0. 0. 0. 2. 1. 0.]\n",
            "games won 5.0\n",
            "games won 8.0\n",
            "games won 4.0\n",
            "games won 3.0\n",
            "games won 8.0\n",
            "games won 2.0\n",
            "games won 2.0\n",
            "games won 5.0\n",
            "games won 2.0\n",
            "games won 4.0\n"
          ]
        }
      ]
    },
    {
      "cell_type": "code",
      "source": [
        ""
      ],
      "metadata": {
        "id": "0Fd4DdgM3VWq"
      },
      "execution_count": null,
      "outputs": []
    }
  ]
}